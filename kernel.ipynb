{
  "cells": [
    {
      "metadata": {
        "trusted": true,
        "_uuid": "84b1e28107fe909ce04313c07947b2a201230592"
      },
      "cell_type": "code",
      "source": "import pandas as pd\nimport numpy as np\nfrom keras.preprocessing.sequence import pad_sequences\ndef read_csv(path):\n    df = pd.read_csv(path)\n    df = df[['height', 'temp', 'rainfallh']]\n    df.dropna()\n    return format_data(df)\n\n\ndef format_data(df):\n    height2, predictors = get_split(df)\n    predictors = predictors.shift(-1)[0:len(predictors)-1]\n    df['single_input_vector'] = predictors.apply(tuple, axis=1).apply(list)\n    df.single_input_vector[len(df)-1] = [0,0]\n    df['single_input_vector'] = df.single_input_vector.apply(lambda x: [list(x)])\n    df['cumulative_input_vectors'] = df.single_input_vector.cumsum()\n    max_sequence_length = df.cumulative_input_vectors.apply(len).max()\n    padded_sequences = pad_sequences(df.cumulative_input_vectors.tolist(), max_sequence_length).tolist()\n    df['padded_input_vectors'] = pd.Series(padded_sequences).apply(np.asarray)\n    X_train_init = np.asarray(df.padded_input_vectors)\n    print(X_train_init.shape)\n    s = np.hstack(X_train_init)\n    fin = s.reshape(len(df),len(df),2)\n    y_train = np.hstack(np.asarray(height2))\n    return fin, y_train\n\n\ndef get_split(dataset):\n    return dataset['height'], dataset.drop('temp',1)\n\nX_train, y_train = read_csv('../input/height.csv')\n",
      "execution_count": 16,
      "outputs": [
        {
          "output_type": "stream",
          "text": "/opt/conda/lib/python3.6/site-packages/ipykernel_launcher.py:15: SettingWithCopyWarning: \nA value is trying to be set on a copy of a slice from a DataFrame\n\nSee the caveats in the documentation: http://pandas.pydata.org/pandas-docs/stable/indexing.html#indexing-view-versus-copy\n  from ipykernel import kernelapp as app\n",
          "name": "stderr"
        },
        {
          "output_type": "stream",
          "text": "(3535,)\n",
          "name": "stdout"
        }
      ]
    },
    {
      "metadata": {
        "trusted": true,
        "_uuid": "17db219c898157ef00ccbec98511747eb897bf34"
      },
      "cell_type": "code",
      "source": "from keras.models import Sequential\nfrom keras.layers import Dense, Activation, Dropout\nfrom keras.layers import LSTM\nfrom keras.optimizers import RMSprop\nfrom keras.utils.data_utils import get_file\nfrom keras import callbacks\nimport numpy as np\nimport random\nimport sys\n\ndef build_lstm_model():\n\n    model = Sequential()\n\n    model.add(LSTM(\n        input_shape=(None,2),\n        units=20,\n        return_sequences=True))\n    model.add(Dropout(0.2))\n\n    model.add(LSTM(\n        50,\n        return_sequences=False))\n    model.add(Dropout(0.2))\n\n    model.add(Dense(\n        1))\n    model.add(Activation(\"linear\"))\n    \n    model.compile(loss=\"mse\", optimizer=\"rmsprop\")\n    return model\n\ncallback =callbacks.TensorBoard(log_dir='./logs', histogram_freq=0, write_graph=True, write_images=False)\n\n",
      "execution_count": 17,
      "outputs": []
    },
    {
      "metadata": {
        "trusted": true,
        "_uuid": "88d77af3737fb4435d5613bf9446531c01f50675"
      },
      "cell_type": "code",
      "source": "from keras.models import Sequential\nfrom keras.layers import Dense, Activation, Dropout,Flatten\nfrom keras.layers import LSTM\nfrom keras.optimizers import RMSprop\nfrom keras.utils.data_utils import get_file\nfrom keras import callbacks\nimport numpy as np\nimport random\nimport sys\n\ndef build_plain_model():\n    model = Sequential()\n    model.add(Flatten(batch_input_shape=(None,3535,2)))\n    model.add(Dense(20,activation=\"relu\"))\n    model.add(Dropout(0.2))\n\n    model.add(Dense(\n        50,\n        activation=\"relu\"))\n    model.add(Dropout(0.2))\n    \n\n    model.add(Dense(\n        1))\n    model.add(Activation(\"linear\"))\n    \n    model.compile(loss=\"mse\", optimizer=\"rmsprop\")\n    #print(\"> Compilation Time : \", time.time() - start)\n    return model\n\ncallback =callbacks.TensorBoard(log_dir='./logs', histogram_freq=0, write_graph=True, write_images=False)\n\n",
      "execution_count": 18,
      "outputs": []
    },
    {
      "metadata": {
        "trusted": true,
        "_uuid": "940d87e6b183828453cde1ae44003ebaa67960e6"
      },
      "cell_type": "code",
      "source": "\nmodel_plain = build_plain_model()\nprint(model_plain.summary())\nmodel_plain.fit(\n    X_train,\n    y_train,\n    batch_size=512,\n    epochs=20,\n    validation_split=0.2, \n    callbacks=[callback])\n\nmodel_lstm = build_lstm_model()\nprint(model_lstm.summary())\nmodel_lstm.fit(\n    X_train,\n    y_train,\n    batch_size=512,\n    epochs=5,\n    validation_split=0.2, \n    callbacks=[callback])",
      "execution_count": 19,
      "outputs": [
        {
          "output_type": "stream",
          "text": "_________________________________________________________________\nLayer (type)                 Output Shape              Param #   \n=================================================================\nflatten_2 (Flatten)          (None, 7070)              0         \n_________________________________________________________________\ndense_5 (Dense)              (None, 20)                141420    \n_________________________________________________________________\ndropout_5 (Dropout)          (None, 20)                0         \n_________________________________________________________________\ndense_6 (Dense)              (None, 50)                1050      \n_________________________________________________________________\ndropout_6 (Dropout)          (None, 50)                0         \n_________________________________________________________________\ndense_7 (Dense)              (None, 1)                 51        \n_________________________________________________________________\nactivation_3 (Activation)    (None, 1)                 0         \n=================================================================\nTotal params: 142,521\nTrainable params: 142,521\nNon-trainable params: 0\n_________________________________________________________________\nNone\nTrain on 2828 samples, validate on 707 samples\nEpoch 1/20\n2828/2828 [==============================] - 0s 158us/step - loss: 37.2860 - val_loss: 4.7637\nEpoch 2/20\n2828/2828 [==============================] - 0s 82us/step - loss: 4.1808 - val_loss: 2.6802\nEpoch 3/20\n2828/2828 [==============================] - 0s 86us/step - loss: 2.8352 - val_loss: 2.9400\nEpoch 4/20\n2828/2828 [==============================] - 0s 88us/step - loss: 2.6427 - val_loss: 2.8091\nEpoch 5/20\n2828/2828 [==============================] - 0s 83us/step - loss: 2.6224 - val_loss: 6.7839\nEpoch 6/20\n2828/2828 [==============================] - 0s 78us/step - loss: 2.7005 - val_loss: 9.3662\nEpoch 7/20\n2828/2828 [==============================] - 0s 84us/step - loss: 2.8350 - val_loss: 5.9337\nEpoch 8/20\n2828/2828 [==============================] - 0s 84us/step - loss: 1.8943 - val_loss: 10.3790\nEpoch 9/20\n2828/2828 [==============================] - 0s 81us/step - loss: 2.9608 - val_loss: 4.6094\nEpoch 10/20\n2828/2828 [==============================] - 0s 74us/step - loss: 1.8505 - val_loss: 8.4516\nEpoch 11/20\n2828/2828 [==============================] - 0s 74us/step - loss: 2.7831 - val_loss: 4.7893\nEpoch 12/20\n2828/2828 [==============================] - 0s 83us/step - loss: 1.8259 - val_loss: 5.1485\nEpoch 13/20\n2828/2828 [==============================] - 0s 83us/step - loss: 2.6895 - val_loss: 3.0441\nEpoch 14/20\n2828/2828 [==============================] - 0s 85us/step - loss: 1.7328 - val_loss: 8.2006\nEpoch 15/20\n2828/2828 [==============================] - 0s 78us/step - loss: 2.0871 - val_loss: 7.3457\nEpoch 16/20\n2828/2828 [==============================] - 0s 76us/step - loss: 1.8049 - val_loss: 9.1887\nEpoch 17/20\n2828/2828 [==============================] - 0s 76us/step - loss: 2.0469 - val_loss: 4.2557\nEpoch 18/20\n2828/2828 [==============================] - 0s 78us/step - loss: 1.3006 - val_loss: 4.3592\nEpoch 19/20\n2828/2828 [==============================] - 0s 84us/step - loss: 2.3062 - val_loss: 8.3632\nEpoch 20/20\n2828/2828 [==============================] - 0s 81us/step - loss: 1.5349 - val_loss: 4.7504\n_________________________________________________________________\nLayer (type)                 Output Shape              Param #   \n=================================================================\nlstm_3 (LSTM)                (None, None, 20)          1840      \n_________________________________________________________________\ndropout_7 (Dropout)          (None, None, 20)          0         \n_________________________________________________________________\nlstm_4 (LSTM)                (None, 50)                14200     \n_________________________________________________________________\ndropout_8 (Dropout)          (None, 50)                0         \n_________________________________________________________________\ndense_8 (Dense)              (None, 1)                 51        \n_________________________________________________________________\nactivation_4 (Activation)    (None, 1)                 0         \n=================================================================\nTotal params: 16,091\nTrainable params: 16,091\nNon-trainable params: 0\n_________________________________________________________________\nNone\nTrain on 2828 samples, validate on 707 samples\nEpoch 1/5\n2828/2828 [==============================] - 97s 34ms/step - loss: 8.3575 - val_loss: 4.1686\nEpoch 2/5\n2828/2828 [==============================] - 96s 34ms/step - loss: 1.4468 - val_loss: 0.8149\nEpoch 3/5\n2828/2828 [==============================] - 96s 34ms/step - loss: 0.8024 - val_loss: 0.6414\nEpoch 4/5\n2828/2828 [==============================] - 95s 34ms/step - loss: 0.7149 - val_loss: 0.4271\nEpoch 5/5\n2828/2828 [==============================] - 95s 34ms/step - loss: 0.6838 - val_loss: 0.3528\n",
          "name": "stdout"
        },
        {
          "output_type": "execute_result",
          "execution_count": 19,
          "data": {
            "text/plain": "<keras.callbacks.History at 0x7f8946c5e400>"
          },
          "metadata": {}
        }
      ]
    },
    {
      "metadata": {
        "trusted": true,
        "_uuid": "1cd7fd8fef06eb1345ef1c8cb27d08796ff954a7"
      },
      "cell_type": "code",
      "source": "X_test, y =read_csv(\"../input/height.csv\")",
      "execution_count": null,
      "outputs": []
    },
    {
      "metadata": {
        "trusted": true,
        "_uuid": "a431e898dc2de99744b06d3a4fa8a200d759bc36"
      },
      "cell_type": "code",
      "source": "#Predict\ny_pred_lstm=model_lstm.predict(X_test)\ny_pred_plain=model_plain.predict(X_test)",
      "execution_count": null,
      "outputs": []
    },
    {
      "metadata": {
        "trusted": true,
        "_uuid": "272b0f212183d39e391ac16c5d06adbb4f43fbd6"
      },
      "cell_type": "code",
      "source": "# Compare the predictions\nimport matplotlib.pyplot as plt\nplt.plot(range(len(y_pred_lstm)),y_pred_lstm,label=\"LSTM\")\nplt.plot(range(len(y_pred_plain)),y_pred_plain,label=\"feed fwd\")\nplt.plot(range(len(y)),y,label=\"true\")\nplt.legend()",
      "execution_count": null,
      "outputs": []
    },
    {
      "metadata": {
        "trusted": true,
        "_uuid": "9144c3bab82e83aa9da6968ae51a5a7a22914311"
      },
      "cell_type": "code",
      "source": "",
      "execution_count": null,
      "outputs": []
    }
  ],
  "metadata": {
    "anaconda-cloud": {},
    "kernelspec": {
      "display_name": "Python 3",
      "language": "python",
      "name": "python3"
    },
    "language_info": {
      "name": "python",
      "version": "3.6.6",
      "mimetype": "text/x-python",
      "codemirror_mode": {
        "name": "ipython",
        "version": 3
      },
      "pygments_lexer": "ipython3",
      "nbconvert_exporter": "python",
      "file_extension": ".py"
    }
  },
  "nbformat": 4,
  "nbformat_minor": 1
}